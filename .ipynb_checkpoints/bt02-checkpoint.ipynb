{
 "cells": [
  {
   "cell_type": "code",
   "execution_count": 2,
   "id": "b99aee9d-c9d8-4c3f-becf-616a36977b4c",
   "metadata": {},
   "outputs": [],
   "source": [
    "#!pip install pillow"
   ]
  },
  {
   "cell_type": "code",
   "execution_count": null,
   "id": "041d8d51-4f08-4473-bd3a-0c19c501ce39",
   "metadata": {},
   "outputs": [],
   "source": [
    "# dấu # ghi chú\n",
    "#shift + enter: run đoạn code cà thêm một dòng mới\n",
    "#ctrl + enter: run đoạn code"
   ]
  },
  {
   "cell_type": "code",
   "execution_count": 4,
   "id": "f224fe44-fce9-4a52-842c-a9073e2f4b70",
   "metadata": {},
   "outputs": [],
   "source": [
    "from PIL import Image"
   ]
  },
  {
   "cell_type": "code",
   "execution_count": 5,
   "id": "1e7cf5ed-7c62-4ccb-a6a5-0d52adeca835",
   "metadata": {},
   "outputs": [],
   "source": [
    "#khai báo một thư mục (/ hoặc \\\\)\n",
    "dir = 'C:/Users/ADMIN/Documents/src_cv/img/01'"
   ]
  },
  {
   "cell_type": "code",
   "execution_count": 6,
   "id": "70454063-371b-4fba-ad97-4a1d103aff1a",
   "metadata": {},
   "outputs": [
    {
     "ename": "SyntaxError",
     "evalue": "leading zeros in decimal integer literals are not permitted; use an 0o prefix for octal integers (2662454270.py, line 4)",
     "output_type": "error",
     "traceback": [
      "\u001b[1;36m  Cell \u001b[1;32mIn[6], line 4\u001b[1;36m\u001b[0m\n\u001b[1;33m    C:/Users/ADMIN/Documents/src_cv/img/01/1.JPG\u001b[0m\n\u001b[1;37m                                        ^\u001b[0m\n\u001b[1;31mSyntaxError\u001b[0m\u001b[1;31m:\u001b[0m leading zeros in decimal integer literals are not permitted; use an 0o prefix for octal integers\n"
     ]
    }
   ],
   "source": [
    "#khai báo đường dẫn ảnh\n",
    "image_path = dir + \"/1.JPG\"\n",
    "print(image_path)\n",
    "C:/Users/ADMIN/Documents/src_cv/img/01/1.JPG"
   ]
  },
  {
   "cell_type": "code",
   "execution_count": 7,
   "id": "010b48b7-9dbf-4eba-a5d8-7a72077f7aa6",
   "metadata": {},
   "outputs": [
    {
     "ename": "NameError",
     "evalue": "name 'image_path' is not defined",
     "output_type": "error",
     "traceback": [
      "\u001b[1;31m---------------------------------------------------------------------------\u001b[0m",
      "\u001b[1;31mNameError\u001b[0m                                 Traceback (most recent call last)",
      "Cell \u001b[1;32mIn[7], line 2\u001b[0m\n\u001b[0;32m      1\u001b[0m \u001b[38;5;66;03m#sử dụng để đọc hình ảnh\u001b[39;00m\n\u001b[1;32m----> 2\u001b[0m img01 \u001b[38;5;241m=\u001b[39m Image\u001b[38;5;241m.\u001b[39mopen(image_path)\n",
      "\u001b[1;31mNameError\u001b[0m: name 'image_path' is not defined"
     ]
    }
   ],
   "source": [
    "#sử dụng để đọc hình ảnh\n",
    "img01 = Image.open(image_path)"
   ]
  },
  {
   "cell_type": "code",
   "execution_count": 8,
   "id": "9106bb1f-d722-4e4b-bafc-b92b55548140",
   "metadata": {},
   "outputs": [
    {
     "ename": "NameError",
     "evalue": "name 'img01' is not defined",
     "output_type": "error",
     "traceback": [
      "\u001b[1;31m---------------------------------------------------------------------------\u001b[0m",
      "\u001b[1;31mNameError\u001b[0m                                 Traceback (most recent call last)",
      "Cell \u001b[1;32mIn[8], line 2\u001b[0m\n\u001b[0;32m      1\u001b[0m \u001b[38;5;66;03m#Hien thi anh\u001b[39;00m\n\u001b[1;32m----> 2\u001b[0m display(img01)\n",
      "\u001b[1;31mNameError\u001b[0m: name 'img01' is not defined"
     ]
    }
   ],
   "source": [
    "#Hien thi anh\n",
    "display(img01)"
   ]
  }
 ],
 "metadata": {
  "kernelspec": {
   "display_name": "Python 3 (ipykernel)",
   "language": "python",
   "name": "python3"
  },
  "language_info": {
   "codemirror_mode": {
    "name": "ipython",
    "version": 3
   },
   "file_extension": ".py",
   "mimetype": "text/x-python",
   "name": "python",
   "nbconvert_exporter": "python",
   "pygments_lexer": "ipython3",
   "version": "3.12.4"
  }
 },
 "nbformat": 4,
 "nbformat_minor": 5
}
