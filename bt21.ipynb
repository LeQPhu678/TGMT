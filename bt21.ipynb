{
 "cells": [
  {
   "cell_type": "code",
   "execution_count": 2,
   "id": "65f9c8ac-79f1-4f9c-8d11-10f31b9f661c",
   "metadata": {},
   "outputs": [],
   "source": [
    "import cv2"
   ]
  },
  {
   "cell_type": "code",
   "execution_count": 3,
   "id": "02eaf6d2-9bcc-4643-a707-c59d094ed0ef",
   "metadata": {},
   "outputs": [],
   "source": [
    "# Đọc video từ file\n",
    "my_video = cv2.VideoCapture('./Data/vdo1.mp4')"
   ]
  },
  {
   "cell_type": "code",
   "execution_count": 4,
   "id": "99a5cdad-d336-4f15-8e4e-5c8d509e05f4",
   "metadata": {},
   "outputs": [],
   "source": [
    "# Tạo cửa sổ để hiển thị\n",
    "cv2.namedWindow('Video Player', cv2.WINDOW_NORMAL)"
   ]
  },
  {
   "cell_type": "code",
   "execution_count": 6,
   "id": "9b5e290a-9d9e-4e5c-9b48-d8069e3562d7",
   "metadata": {},
   "outputs": [],
   "source": [
    "# Hiển thị từng khung ảnh\n",
    "while True:\n",
    "    # Đọc 1 frame\n",
    "    ret, frame = my_video.read()\n",
    "    \n",
    "    # Thoát khi không thể đọc được frame\n",
    "    if not ret:\n",
    "        break\n",
    "    \n",
    "    # Hiển thị\n",
    "    cv2.imshow('Video Player', frame)\n",
    "    \n",
    "    if(cv2.waitKey(10)==ord('q')):\n",
    "        break"
   ]
  },
  {
   "cell_type": "code",
   "execution_count": null,
   "id": "7025092c-defe-4fb5-8dd9-939fb29144e1",
   "metadata": {},
   "outputs": [],
   "source": [
    "# Hủy bỏ player\n",
    "my_video.release\n",
    "cv2.destroyAllWindows()"
   ]
  }
 ],
 "metadata": {
  "kernelspec": {
   "display_name": "Python 3 (ipykernel)",
   "language": "python",
   "name": "python3"
  },
  "language_info": {
   "codemirror_mode": {
    "name": "ipython",
    "version": 3
   },
   "file_extension": ".py",
   "mimetype": "text/x-python",
   "name": "python",
   "nbconvert_exporter": "python",
   "pygments_lexer": "ipython3",
   "version": "3.12.4"
  }
 },
 "nbformat": 4,
 "nbformat_minor": 5
}
