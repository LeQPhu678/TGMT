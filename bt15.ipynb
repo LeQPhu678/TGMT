{
 "cells": [
  {
   "cell_type": "code",
   "execution_count": 1,
   "id": "b76e85e9-437b-4897-ae37-6a34b4e1f984",
   "metadata": {},
   "outputs": [],
   "source": [
    "# !pip install scipy"
   ]
  },
  {
   "cell_type": "code",
   "execution_count": 2,
   "id": "66efcf32-06f3-4b35-9c52-616e38bd348a",
   "metadata": {},
   "outputs": [
    {
     "name": "stdout",
     "output_type": "stream",
     "text": [
      "Kết quả:  [ 3. -1.]\n"
     ]
    }
   ],
   "source": [
    "from scipy import linalg\n",
    "import numpy as np\n",
    "# Định nghĩa hệ phương trình tuyến tính\n",
    "A = np.array([[2, 1],[3, 2]])\n",
    "b = np.array([5,7])\n",
    "\n",
    "# Giải hệ phương trình tuyến tính\n",
    "x = linalg.solve(A, b)\n",
    "print(\"Kết quả: \", x)\n"
   ]
  },
  {
   "cell_type": "code",
   "execution_count": 7,
   "id": "ea749ca3-2736-459e-9f4a-e2d77cf42482",
   "metadata": {},
   "outputs": [
    {
     "name": "stdout",
     "output_type": "stream",
     "text": [
      "Tích phân f(x) từ 1 đến 4:  (31.5, 3.497202527569243e-13)\n"
     ]
    }
   ],
   "source": [
    "# Tính tích phân của một hàm số\n",
    "from scipy import integrate\n",
    "\n",
    "# Định nghĩa hàm f(x) = x^2\n",
    "def my_function(x):\n",
    "    return x**2+x+1;\n",
    "\n",
    "# Tính tích phân của f(x) từ 0 đến 1\n",
    "integral = integrate.quad(my_function, 1, 4);\n",
    "print(\"Tích phân f(x) từ 1 đến 4: \", integral)"
   ]
  },
  {
   "cell_type": "code",
   "execution_count": 10,
   "id": "d9e36bfd-547e-48ec-9bcd-a41a31498ce3",
   "metadata": {},
   "outputs": [
    {
     "name": "stdout",
     "output_type": "stream",
     "text": [
      "Giá trị riêng của ma trận B:  [3.+2.j 2.+3.j]\n",
      "Vector riêng của ma trận B:  [[ 1.        +0.j  0.70710678+0.j]\n",
      " [ 0.        +0.j -0.70710678+0.j]]\n"
     ]
    }
   ],
   "source": [
    "\n",
    "#from scipy import linalg\n",
    "#import numpy as np\n",
    "\n",
    "# Tính giá trị riêng và vector riêng của một ma trận:\n",
    "#A = np.array([[2,1], [3,2]])\n",
    "\n",
    "# Tính giá trị riêng và vector riêng của ma trận\n",
    "#evals, evecs = linalg.eig(A)\n",
    "\n",
    "#print(\"Giá trị riêng: \", evals)\n",
    "#print(\"Vector riêng: \", evecs)\n",
    "\n",
    "\n",
    "# Nhập thư viện cần thiết\n",
    "from scipy import linalg\n",
    "import numpy as np\n",
    "\n",
    "# Tạo một ma trận mới để tính toán giá trị riêng và vector riêng\n",
    "B = np.array([[3+2j,1-1j], [0,2+3j]])\n",
    "\n",
    "# Tính giá trị riêng và vector riêng của ma trận B\n",
    "evals_B, evecs_B = linalg.eig(B)\n",
    "\n",
    "print(\"Giá trị riêng của ma trận B: \", evals_B)\n",
    "print(\"Vector riêng của ma trận B: \", evecs_B)"
   ]
  }
 ],
 "metadata": {
  "kernelspec": {
   "display_name": "Python 3 (ipykernel)",
   "language": "python",
   "name": "python3"
  },
  "language_info": {
   "codemirror_mode": {
    "name": "ipython",
    "version": 3
   },
   "file_extension": ".py",
   "mimetype": "text/x-python",
   "name": "python",
   "nbconvert_exporter": "python",
   "pygments_lexer": "ipython3",
   "version": "3.12.4"
  }
 },
 "nbformat": 4,
 "nbformat_minor": 5
}
