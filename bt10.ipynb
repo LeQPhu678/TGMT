{
 "cells": [
  {
   "cell_type": "code",
   "execution_count": 4,
   "id": "0664ad3a-32b4-48f4-b4af-2ccf9953b5fd",
   "metadata": {},
   "outputs": [],
   "source": [
    "#import thư viện\n",
    "from PIL import Image\n",
    "import matplotlib.pyplot as plt"
   ]
  },
  {
   "cell_type": "code",
   "execution_count": 6,
   "id": "24caf35a-28c6-4b56-965e-5eb782b0e8a6",
   "metadata": {},
   "outputs": [
    {
     "name": "stdout",
     "output_type": "stream",
     "text": [
      "[(106.64285714285717, 122.22727272727263), (243.00649350649348, 186.51298701298686), (318.98051948051943, 243.00649350649337), (342.3571428571429, 256.642857142857), (408.5909090909091, 311.1883116883116)]\n"
     ]
    }
   ],
   "source": [
    "# đường dẫn ảnh\n",
    "dir = 'C:/Users/ADMIN/Documents/src_cv/img/01/3.jpg'\n",
    "\n",
    "#đọc ảnh\n",
    "im = Image.open(dir)\n",
    "\n",
    "#chuyển đổi backend\n",
    "plt.switch_backend('tkagg')\n",
    "\n",
    "#hiển thị ảnh\n",
    "plt.imshow(im)\n",
    "plt.title(\"click on the image to select points\")\n",
    "\n",
    "#sử dụng hàm ginput để chọn điểm trên màn ảnh\n",
    "points = plt.ginput(5)\n",
    "\n",
    "print(points)\n",
    "\n",
    "#hiển thị\n",
    "plt.show()"
   ]
  },
  {
   "cell_type": "code",
   "execution_count": null,
   "id": "3a92e78e-1507-4fec-b860-4f740f6cf9e1",
   "metadata": {},
   "outputs": [],
   "source": [
    "# Vẽ lại các điểm đã chọn bằng dấu * màu đỏ\n",
    "plt.close()\n",
    "\n",
    "# Vẽ lại\n",
    "plt.imshow(im)\n",
    "for point in points:\n",
    "    x, y = point\n",
    "    plt.plot(x,y, 'g*')\n",
    "\n",
    "plt.show()"
   ]
  }
 ],
 "metadata": {
  "kernelspec": {
   "display_name": "Python 3 (ipykernel)",
   "language": "python",
   "name": "python3"
  },
  "language_info": {
   "codemirror_mode": {
    "name": "ipython",
    "version": 3
   },
   "file_extension": ".py",
   "mimetype": "text/x-python",
   "name": "python",
   "nbconvert_exporter": "python",
   "pygments_lexer": "ipython3",
   "version": "3.12.4"
  }
 },
 "nbformat": 4,
 "nbformat_minor": 5
}
